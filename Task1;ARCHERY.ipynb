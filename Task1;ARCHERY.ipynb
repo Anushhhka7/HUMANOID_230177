{
  "cells": [
    {
      "cell_type": "code",
      "execution_count": null,
      "metadata": {
        "id": "_HsqXJsj7xGF"
      },
      "outputs": [],
      "source": [
        "#important librairies\n",
        "import numpy as np\n",
        "import cv2\n",
        "from google.colab.patches import cv2_imshow\n"
      ]
    },
    {
      "cell_type": "code",
      "execution_count": null,
      "metadata": {
        "colab": {
          "base_uri": "https://localhost:8080/"
        },
        "id": "wiwzO-7D719b",
        "outputId": "31d1a999-20af-4e6a-ee41-b84279a38c92"
      },
      "outputs": [],
      "source": [
        "# video path\n",
        "\n",
        "from google.colab import drive\n",
        "drive.mount('/content/drive')\n",
        "video_path = '/content/drive/MyDrive/TASK1 VIDEO HUMANOID - Made with Clipchamp_1717567695472.mp4'\n",
        "cap = cv2.VideoCapture(video_path)\n",
        "output_path = 'output_video.mp4' # path where I will store the output video"
      ]
    },
    {
      "cell_type": "code",
      "execution_count": null,
      "metadata": {
        "id": "n_UAOsVH8UUP"
      },
      "outputs": [],
      "source": [
        "# EARLIER i was thinking to skip frames as it could lead to lesser data and more easy processing , but it eventually leads to loss of data and efficiency , thus I dropped the idea\n",
        "\n",
        "fps = cap.get(cv2.CAP_PROP_FPS)\n",
        "frame_width = int(cap.get(cv2.CAP_PROP_FRAME_WIDTH))\n",
        "frame_height = int(cap.get(cv2.CAP_PROP_FRAME_HEIGHT))\n",
        "fourcc = cv2.VideoWriter_fourcc(*'mp4v')\n",
        "out = cv2.VideoWriter(output_path, fourcc, fps, (frame_width, frame_height))\n",
        "\n",
        "centers = [] # array of centers"
      ]
    },
    {
      "cell_type": "code",
      "execution_count": null,
      "metadata": {
        "colab": {
          "base_uri": "https://localhost:8080/"
        },
        "id": "uaadMIml9fPH",
        "outputId": "458a079f-b829-48ef-f12b-84d0644c8a36"
      },
      "outputs": [],
      "source": [
        "#checking the fps\n",
        "print(\"Frames per second:\", fps)"
      ]
    },
    {
      "cell_type": "code",
      "execution_count": null,
      "metadata": {
        "id": "3iTxFoQ29rCx"
      },
      "outputs": [],
      "source": [
        "#function to detect the center of the archery , I tried to sense the yellow colour and then\n",
        "\n",
        "def detect_yellow_disc_center(frame):\n",
        "  hsv = cv2.cvtColor(frame, cv2.COLOR_BGR2HSV)#converting rgb to hsv\n",
        "\n",
        "    # # Define the range for yellow color in HSV\n",
        "  lower_yellow = np.array([20, 100, 100])\n",
        "  upper_yellow = np.array([30, 255, 255])\n",
        "\n",
        "    # # Create a mask for yellow color\n",
        "  mask = cv2.inRange(hsv, lower_yellow, upper_yellow)\n",
        "\n",
        "    # # Apply the mask to get the yellow regions\n",
        "  yellow_regions = cv2.bitwise_and(frame, frame, mask=mask)\n",
        "\n",
        "    # # Convert the yellow regions to grayscale\n",
        "  gray_yellow = cv2.cvtColor(yellow_regions, cv2.COLOR_BGR2GRAY)\n",
        "\n",
        "    # # Apply GaussianBlur to the grayscale yellow regions\n",
        "  blurred = cv2.GaussianBlur(gray_yellow, (5, 5), 0)\n",
        "\n",
        "    # # Apply Canny edge detection\n",
        "  edges = cv2.Canny(blurred, 100, 200)\n",
        "\n",
        "    # # Detect circles using Hough Circle Transform\n",
        "  circles = cv2.HoughCircles(edges, cv2.HOUGH_GRADIENT, dp=1.2, minDist=50,\n",
        "                         param1=50, param2=30, minRadius=5, maxRadius=100)\n",
        "\n",
        "  if circles is not None:\n",
        "        circles = np.round(circles[0, :]).astype(\"int\")\n",
        "        for (x, y, r) in circles:\n",
        "            return (x, y), r\n",
        "\n",
        "  return None, None\n",
        "\n",
        "  cv2.imshow(\"output\", image)\n",
        "  cv2.waitKey(0)"
      ]
    },
    {
      "cell_type": "code",
      "execution_count": null,
      "metadata": {
        "id": "6vnPCvMkLXvb"
      },
      "outputs": [],
      "source": [
        "def calculate_velocity(centers, fps):\n",
        "    velocities = []\n",
        "    for i in range(1, len(centers)):\n",
        "        if centers[i] is not None and centers[i-1] is not None:\n",
        "            dx = centers[i][0] - centers[i-1][0]\n",
        "            dy = centers[i][1] - centers[i-1][1]\n",
        "            distance = np.sqrt(dx**2 + dy**2)\n",
        "            velocity = (dx * fps, dy * fps)\n",
        "            velocities.append(velocity)\n",
        "    return velocities"
      ]
    },
    {
      "cell_type": "code",
      "execution_count": null,
      "metadata": {
        "id": "boAUKR0kLbxY"
      },
      "outputs": [],
      "source": [
        "def predict_next_center(current_center, velocity, fps,scale=1.5):\n",
        "    dx, dy = velocity\n",
        "    next_center = (int(current_center[0] + scale*dx / fps), int(current_center[1] +scale* dy / fps))\n",
        "    return next_center"
      ]
    },
    {
      "cell_type": "code",
      "execution_count": null,
      "metadata": {
        "colab": {
          "base_uri": "https://localhost:8080/",
          "height": 1000
        },
        "id": "HzdVgsiLNCQO",
        "outputId": "a2e4dbad-acfe-4c0f-b73a-6666acf651e0"
      },
      "outputs": [],
      "source": [
        "centers = []\n",
        "velocities = []\n",
        "\n",
        "frame_index = 0\n",
        "\n",
        "while cap.isOpened():\n",
        "    ret, frame = cap.read()\n",
        "    if not ret:\n",
        "        break\n",
        "\n",
        "    center, radius = detect_yellow_disc_center(frame)\n",
        "    if center is not None and len(centers) > 0:\n",
        "        previous_center = centers[-1]\n",
        "        velocity = calculate_velocity([previous_center, center], fps)[0]\n",
        "        velocities.append(velocity)\n",
        "        predicted_center = predict_next_center(previous_center, velocity, fps)\n",
        "\n",
        "        # Draw actual center and circle\n",
        "        cv2.circle(frame, center, radius, (0, 255, 0), 2)  # Actual circle in green\n",
        "        cv2.circle(frame, center, 5, (0, 0, 255), -1)  # Actual center in red\n",
        "\n",
        "        # Draw predicted center\n",
        "        cv2.circle(frame, predicted_center,radius, (255, 0, 0), 2)  # Predicted center in blue\n",
        "        cv2.circle(frame, predicted_center, 5, (0, 0, 255), -1)\n",
        "        print(f\"Predicted Center = {predicted_center}\")\n",
        "    else:\n",
        "        predicted_center = None\n",
        "\n",
        "    centers.append(center)\n",
        "\n",
        "    # Draw the trajectory of the center\n",
        "    for i in range(1, len(centers)):\n",
        "        if centers[i] is not None and centers[i-1] is not None:\n",
        "            cv2.line(frame, centers[i-1], centers[i], (255, 0, 0), 2)  # Draw lines in blue\n",
        "\n",
        "    out.write(frame)\n",
        "    cv2_imshow(frame)  # Use cv2_imshow instead of cv2.imshow for Google Colab\n",
        "\n",
        "    frame_info = f\"Frame {frame_index}: Actual Center = {center}, Predicted Center = {predicted_center}, Radius = {radius}\"\n",
        "    print(frame_info)\n",
        "\n",
        "    frame_index += 1\n",
        "\n",
        "cap.release()\n",
        "out.release()\n",
        "cv2.destroyAllWindows()"
      ]
    },
    {
      "cell_type": "code",
      "execution_count": null,
      "metadata": {
        "id": "oE-XH48-LoSP"
      },
      "outputs": [],
      "source": [
        "if velocities:\n",
        "    avg_velocity = sum(np.linalg.norm(v) for v in velocities) / len(velocities)\n",
        "    print(f\"Average Velocity = {avg_velocity:.2f} pixels/second\")\n",
        "else:\n",
        "    print(\"No velocities calculated\")\n",
        "\n",
        "# Print individual frame velocities\n",
        "for i, velocity in enumerate(velocities):\n",
        "    print(f\"Frame {i + 1}: Velocity = {np.linalg.norm(velocity):.2f} pixels/second\")"
      ]
    },
    {
      "cell_type": "code",
      "execution_count": null,
      "metadata": {
        "colab": {
          "base_uri": "https://localhost:8080/",
          "height": 17
        },
        "id": "VN2dQCzwVkS4",
        "outputId": "73b7c048-f247-4d43-b219-afa675a3d186"
      },
      "outputs": [],
      "source": [
        "from google.colab import files\n",
        "files.download(output_path)"
      ]
    }
  ],
  "metadata": {
    "colab": {
      "provenance": []
    },
    "kernelspec": {
      "display_name": "Python 3",
      "name": "python3"
    },
    "language_info": {
      "name": "python"
    }
  },
  "nbformat": 4,
  "nbformat_minor": 0
}
